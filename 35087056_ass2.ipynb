{
 "cells": [
  {
   "cell_type": "markdown",
   "metadata": {},
   "source": []
  },
  {
   "cell_type": "code",
   "execution_count": null,
   "metadata": {},
   "outputs": [],
   "source": []
  },
  {
   "cell_type": "markdown",
   "metadata": {},
   "source": [
    "### NOTES\n",
    "\n",
    "##### * In this project, a consistent approach involves using the apply() method with a nested lambda function. The apply() method applies a function to the values in one or more fields of a Pandas DataFrame. Nested lambda functions allow efficient iteration over field values, incorporating if-else logic seamlessly. This approach avoids repetitive loops and enables concise, expressive data manipulation. These notes serve to document the approach, reducing the need to repeat explanations in subsequent code descriptions."
   ]
  },
  {
   "cell_type": "markdown",
   "metadata": {},
   "source": [
    "#### Importing relevant libraries needed"
   ]
  },
  {
   "cell_type": "code",
   "execution_count": 145,
   "metadata": {},
   "outputs": [],
   "source": [
    "# import libraries \n",
    "import pandas as pd\n",
    "import numpy as np\n",
    "import re\n",
    "import matplotlib.pyplot as plt\n",
    "from datetime import datetime"
   ]
  },
  {
   "cell_type": "markdown",
   "metadata": {},
   "source": [
    "## Missing Data"
   ]
  },
  {
   "cell_type": "markdown",
   "metadata": {},
   "source": [
    "#### Importing the missing data CSV and Warehouse data CSV used that will be needed for data imputation"
   ]
  },
  {
   "cell_type": "code",
   "execution_count": 146,
   "metadata": {},
   "outputs": [],
   "source": [
    "# import files\n",
    "missing_data = pd.read_csv('35087056_missing_data.csv')\n",
    "warehouses = pd.read_csv('warehouses.csv')"
   ]
  },
  {
   "cell_type": "markdown",
   "metadata": {},
   "source": [
    "#### Use the .info() method on both csv files to inspect the metadata of the missing data csv and warehouse csv. This allows for identification of where the missing rows are, allows for inspection of the datatype of each column which is important when performing imputation as well as ensures the data has been imported as expected."
   ]
  },
  {
   "cell_type": "code",
   "execution_count": 147,
   "metadata": {},
   "outputs": [
    {
     "name": "stdout",
     "output_type": "stream",
     "text": [
      "<class 'pandas.core.frame.DataFrame'>\n",
      "RangeIndex: 500 entries, 0 to 499\n",
      "Data columns (total 16 columns):\n",
      " #   Column                         Non-Null Count  Dtype  \n",
      "---  ------                         --------------  -----  \n",
      " 0   order_id                       500 non-null    object \n",
      " 1   customer_id                    500 non-null    object \n",
      " 2   date                           500 non-null    object \n",
      " 3   nearest_warehouse              445 non-null    object \n",
      " 4   shopping_cart                  500 non-null    object \n",
      " 5   order_price                    485 non-null    float64\n",
      " 6   delivery_charges               460 non-null    float64\n",
      " 7   customer_lat                   500 non-null    float64\n",
      " 8   customer_long                  500 non-null    float64\n",
      " 9   coupon_discount                500 non-null    int64  \n",
      " 10  order_total                    485 non-null    float64\n",
      " 11  season                         500 non-null    object \n",
      " 12  is_expedited_delivery          500 non-null    bool   \n",
      " 13  distance_to_nearest_warehouse  469 non-null    float64\n",
      " 14  latest_customer_review         500 non-null    object \n",
      " 15  is_happy_customer              460 non-null    float64\n",
      "dtypes: bool(1), float64(7), int64(1), object(7)\n",
      "memory usage: 59.2+ KB\n"
     ]
    }
   ],
   "source": [
    "missing_data.info()"
   ]
  },
  {
   "cell_type": "code",
   "execution_count": 148,
   "metadata": {},
   "outputs": [
    {
     "name": "stdout",
     "output_type": "stream",
     "text": [
      "<class 'pandas.core.frame.DataFrame'>\n",
      "RangeIndex: 3 entries, 0 to 2\n",
      "Data columns (total 3 columns):\n",
      " #   Column  Non-Null Count  Dtype  \n",
      "---  ------  --------------  -----  \n",
      " 0   names   3 non-null      object \n",
      " 1   lat     3 non-null      float64\n",
      " 2   lon     3 non-null      float64\n",
      "dtypes: float64(2), object(1)\n",
      "memory usage: 204.0+ bytes\n"
     ]
    }
   ],
   "source": [
    "warehouses.info()"
   ]
  },
  {
   "cell_type": "markdown",
   "metadata": {},
   "source": [
    "### Missing Data - Exploratory Data Analysis (EDA)"
   ]
  },
  {
   "cell_type": "markdown",
   "metadata": {},
   "source": [
    "#### Conduct a dataframe using the chained method of isna().sum() of all columns which contain at least one or more missing rows in the data set. This provides an overview what columns will need to be imputed as well as the frequency of the missing rows in each. "
   ]
  },
  {
   "cell_type": "code",
   "execution_count": 149,
   "metadata": {},
   "outputs": [
    {
     "data": {
      "text/html": [
       "<div>\n",
       "<style scoped>\n",
       "    .dataframe tbody tr th:only-of-type {\n",
       "        vertical-align: middle;\n",
       "    }\n",
       "\n",
       "    .dataframe tbody tr th {\n",
       "        vertical-align: top;\n",
       "    }\n",
       "\n",
       "    .dataframe thead th {\n",
       "        text-align: right;\n",
       "    }\n",
       "</style>\n",
       "<table border=\"1\" class=\"dataframe\">\n",
       "  <thead>\n",
       "    <tr style=\"text-align: right;\">\n",
       "      <th></th>\n",
       "      <th>Column</th>\n",
       "      <th>Missing Row Count</th>\n",
       "    </tr>\n",
       "  </thead>\n",
       "  <tbody>\n",
       "    <tr>\n",
       "      <th>0</th>\n",
       "      <td>nearest_warehouse</td>\n",
       "      <td>55</td>\n",
       "    </tr>\n",
       "    <tr>\n",
       "      <th>1</th>\n",
       "      <td>order_price</td>\n",
       "      <td>15</td>\n",
       "    </tr>\n",
       "    <tr>\n",
       "      <th>2</th>\n",
       "      <td>delivery_charges</td>\n",
       "      <td>40</td>\n",
       "    </tr>\n",
       "    <tr>\n",
       "      <th>3</th>\n",
       "      <td>order_total</td>\n",
       "      <td>15</td>\n",
       "    </tr>\n",
       "    <tr>\n",
       "      <th>4</th>\n",
       "      <td>distance_to_nearest_warehouse</td>\n",
       "      <td>31</td>\n",
       "    </tr>\n",
       "    <tr>\n",
       "      <th>5</th>\n",
       "      <td>is_happy_customer</td>\n",
       "      <td>40</td>\n",
       "    </tr>\n",
       "  </tbody>\n",
       "</table>\n",
       "</div>"
      ],
      "text/plain": [
       "                          Column  Missing Row Count\n",
       "0              nearest_warehouse                 55\n",
       "1                    order_price                 15\n",
       "2               delivery_charges                 40\n",
       "3                    order_total                 15\n",
       "4  distance_to_nearest_warehouse                 31\n",
       "5              is_happy_customer                 40"
      ]
     },
     "execution_count": 149,
     "metadata": {},
     "output_type": "execute_result"
    }
   ],
   "source": [
    "# Find fields containing \n",
    "missing_data_eda = missing_data.isna().sum()[missing_data.isna().sum() > 0].to_frame()\n",
    "\n",
    "# Reset Index, Rename columns and display table\n",
    "missing_data_eda = missing_data_eda.reset_index()\n",
    "missing_data_eda = missing_data_eda.rename(columns={'index':'Column',0:'Missing Row Count'})\n",
    "missing_data_eda\n"
   ]
  },
  {
   "cell_type": "markdown",
   "metadata": {},
   "source": [
    "#### Construct a Bar Graph visualisation of the above data frame, a seperate graph for each column containing missing values with individual missing row counts for each bar/column. The approach taken here was to create six different different varaibles for each column containing the row counts."
   ]
  },
  {
   "cell_type": "code",
   "execution_count": 150,
   "metadata": {},
   "outputs": [
    {
     "data": {
      "image/png": "[encoded data removed]",
      "text/plain": [
       "<Figure size 1400x1000 with 1 Axes>"
      ]
     },
     "metadata": {},
     "output_type": "display_data"
    }
   ],
   "source": [
    "# Visualise\n",
    "\n",
    "nearest_warehouse_missing = missing_data['nearest_warehouse'].isna().sum()\n",
    "order_price_missing = missing_data['order_price'].isna().sum()\n",
    "delivery_charges_missing = missing_data['delivery_charges'].isna().sum()\n",
    "order_total_missing = missing_data['order_total'].isna().sum()\n",
    "distance_warehouse_missing = missing_data['distance_to_nearest_warehouse'].isna().sum()\n",
    "is_happy_customer_missing = missing_data['is_happy_customer'].isna().sum()\n",
    "\n",
    "missing_data_counts = [nearest_warehouse_missing,order_price_missing,delivery_charges_missing,\n",
    "                       order_total_missing,distance_warehouse_missing,is_happy_customer_missing]\n",
    "\n",
    "variables = ['Nearest Warehouse', 'Order Price', 'Delivery Charges', \n",
    "             'Order Total', 'Distance Nearest Warehouse','Happy Customer']\n",
    "\n",
    "fig, ax = plt.subplots(figsize=(14, 10))\n",
    "bars = plt.bar(variables, missing_data_counts)\n",
    "\n",
    "for bar in bars:\n",
    "    height = bar.get_height()  \n",
    "    plt.text(bar.get_x() + bar.get_width() / 2, height, str(height),\n",
    "             ha='center', va='bottom', fontsize=10)\n",
    "\n",
    "plt.xlabel('Columns Containing Rows with Missing Data')\n",
    "plt.ylabel('Missting Data Row Count')\n",
    "plt.title('Row Counts with Missing Data in Missing Data CSV')\n",
    "plt.show()"
   ]
  },
  {
   "cell_type": "markdown",
   "metadata": {},
   "source": [
    "#### Define a function to calculate the distance between two points on a sphere (The Haversine Formula), this will calculate the distance in kilometers between two sets of longitude and lattitude inputs to find the nearest warehouse for a set of corrdinates as well as the distance to the nearest warehouse."
   ]
  },
  {
   "cell_type": "code",
   "execution_count": 151,
   "metadata": {},
   "outputs": [],
   "source": [
    "# Haversine function\n",
    "def haversine(lat1, lon1, lat2, lon2):\n",
    "    R = 6371  \n",
    "    phi1 = np.radians(lat1)\n",
    "    phi2 = np.radians(lat2)\n",
    "    delta_phi = np.radians(lat2 - lat1)\n",
    "    delta_lambda = np.radians(lon2 - lon1)\n",
    "    alpha = np.sin(delta_phi / 2) ** 2 + np.cos(phi1) * np.cos(phi2) * np.sin(delta_lambda / 2) ** 2\n",
    "    distance = R * 2 * np.arctan2(np.sqrt(alpha), np.sqrt(1 - alpha))\n",
    "    return distance"
   ]
  },
  {
   "cell_type": "markdown",
   "metadata": {},
   "source": [
    "#### Where the nearest warehouse field is null, conduct a look up on the warehouse csv and determine the closest warehouse using the haversine formmu;a"
   ]
  },
  {
   "cell_type": "code",
   "execution_count": 152,
   "metadata": {},
   "outputs": [],
   "source": [
    "# Nearest Warehouse \n",
    "missing_data['nearest_warehouse'] = missing_data.apply(\n",
    "    lambda row: warehouses.loc[\n",
    "        warehouses.apply(\n",
    "            lambda x: haversine(row['customer_lat'], row['customer_long'], x['lat'], x['lon']),\n",
    "            axis=1\n",
    "        ).idxmin()]['names'] if pd.isnull(row['nearest_warehouse']) else row['nearest_warehouse'],\n",
    "    axis=1\n",
    ")"
   ]
  },
  {
   "cell_type": "markdown",
   "metadata": {},
   "source": [
    "#### Merge the missing data csv and the warehouse dataframe to join the warehouse column fields using the warehouse names as the join key. if the distance to warehouse field is null, apply the haversine forumla and impute the values using both sets of longitute and lattitude inputs as the haversine function requires."
   ]
  },
  {
   "cell_type": "code",
   "execution_count": 153,
   "metadata": {},
   "outputs": [],
   "source": [
    "# Distance to Nearest Warehouse\n",
    "merged_df = pd.merge(missing_data, warehouses, how='left', left_on='nearest_warehouse', right_on='names')\n",
    "\n",
    "merged_df['distance_to_nearest_warehouse'] = merged_df.apply(\n",
    "    lambda row: round(haversine(row['customer_lat'], row['customer_long'], row['lat'], row['lon']), 4)\n",
    "    if pd.isnull(row['distance_to_nearest_warehouse']) else row['distance_to_nearest_warehouse'], \n",
    "    axis=1\n",
    ")\n",
    "\n",
    "missing_data = merged_df.drop(columns=['names','lat','lon'])"
   ]
  },
  {
   "cell_type": "markdown",
   "metadata": {},
   "source": [
    "#### Use K-NearestNighbours (KNN) to Impute values for the order price field where the values are currently missing, this model was chosen as it essentially looks at similiar data points based on features provided to estimate a value. \n",
    "#### General Steps:\n",
    "#### 1. Define the relevant features to use for the KNN model \n",
    "#### 2. Convert the Shopping Cart Items field into a list of countable values\n",
    "#### 3. Define the field to be imputed (order price)\n",
    "#### 4. Isolate rows to be imputed\n",
    "#### 5. Impute for all values that are currently missing\n"
   ]
  },
  {
   "cell_type": "code",
   "execution_count": 154,
   "metadata": {},
   "outputs": [],
   "source": [
    "# Order Price\n",
    "from sklearn.impute import KNNImputer\n",
    "\n",
    "# Select relevant columns for imputation\n",
    "columns_to_use = ['shopping_cart', 'order_price', 'delivery_charges',\n",
    "                  'coupon_discount', 'distance_to_nearest_warehouse', 'order_total']\n",
    "\n",
    "data_subset = missing_data[columns_to_use].copy()\n",
    "\n",
    "# Get count of itmes containing within shopping card for each row\n",
    "data_subset['shopping_cart_items'] = data_subset['shopping_cart'].apply(\n",
    "    lambda x: sum(int(item.split(\",\")[1].strip().strip(')')) for item in x.strip('[]').split('), (')) if isinstance(x, str) else 0\n",
    ")\n",
    "\n",
    "# Drop the original shopping_cart column and rearrange\n",
    "data_subset = data_subset.drop(columns=['shopping_cart'])\n",
    "\n",
    "# Separate fields to impute (order_total)\n",
    "fields_to_impute = 'order_price'\n",
    "\n",
    "# Convert to numeric and check for nulls\n",
    "data_subset[fields_to_impute] = pd.to_numeric(data_subset[fields_to_impute], errors='coerce')\n",
    "\n",
    "# Use KNN Imputer\n",
    "imputer = KNNImputer(n_neighbors=1)\n",
    "imputed_data = imputer.fit_transform(data_subset)\n",
    "\n",
    "# Convert the result back to a DataFrame\n",
    "imputed_df = pd.DataFrame(imputed_data, columns=data_subset.columns)\n",
    "\n",
    "# Restore the imputed 'order_total' to the original DataFrame\n",
    "missing_data['order_price'] = imputed_df['order_price']"
   ]
  },
  {
   "cell_type": "markdown",
   "metadata": {},
   "source": [
    "#### Apply the simple calculation for each row where order total is missing to workout the order total. order price multiplied by the coupon percentage discount with the addition of the delivery charge"
   ]
  },
  {
   "cell_type": "code",
   "execution_count": 155,
   "metadata": {},
   "outputs": [],
   "source": [
    "# Order Total\n",
    "missing_data['order_total'] = missing_data.apply(\n",
    "    lambda row: row['order_price'] * (1 - (row['coupon_discount']/100)) + row['delivery_charges'] if pd.isna(row['order_total']) else row['order_total'],\n",
    "    axis=1)"
   ]
  },
  {
   "cell_type": "markdown",
   "metadata": {},
   "source": [
    "#### Apply simple calculation for each row where the delivery charge row is missing, order total minus the order price multiplied by the coupon percentage discount"
   ]
  },
  {
   "cell_type": "code",
   "execution_count": 156,
   "metadata": {},
   "outputs": [],
   "source": [
    "# Delivery Charges\n",
    "missing_data['delivery_charges'] = missing_data.apply(\n",
    "    lambda row: row['order_total'] - (row['order_price'] * (1 - (row['coupon_discount']/100))) if pd.isna(row['delivery_charges']) else row['delivery_charges'],\n",
    "    axis=1)"
   ]
  },
  {
   "cell_type": "markdown",
   "metadata": {},
   "source": [
    "#### Apply the NLTK Vader sentiment analyser to impute the binary score, 1 being positive and 0 being negative over the is happy customer field where it is missing."
   ]
  },
  {
   "cell_type": "code",
   "execution_count": 157,
   "metadata": {},
   "outputs": [],
   "source": [
    "# Happy Customer\n",
    "from nltk.sentiment.vader import SentimentIntensityAnalyzer\n",
    "vader = SentimentIntensityAnalyzer()\n",
    "\n",
    "missing_data['is_happy_customer'] = missing_data.apply(\n",
    "    lambda row: 1 if pd.isnull(row['is_happy_customer']) and vader.polarity_scores(row['latest_customer_review'])['compound'] > 0 \n",
    "    else (0 if pd.isnull(row['is_happy_customer']) else row['is_happy_customer']),\n",
    "    axis=1\n",
    ")"
   ]
  },
  {
   "cell_type": "markdown",
   "metadata": {},
   "source": [
    "#### Check all fields contain no further missing rows"
   ]
  },
  {
   "cell_type": "code",
   "execution_count": 158,
   "metadata": {},
   "outputs": [
    {
     "name": "stdout",
     "output_type": "stream",
     "text": [
      "<class 'pandas.core.frame.DataFrame'>\n",
      "RangeIndex: 500 entries, 0 to 499\n",
      "Data columns (total 16 columns):\n",
      " #   Column                         Non-Null Count  Dtype  \n",
      "---  ------                         --------------  -----  \n",
      " 0   order_id                       500 non-null    object \n",
      " 1   customer_id                    500 non-null    object \n",
      " 2   date                           500 non-null    object \n",
      " 3   nearest_warehouse              500 non-null    object \n",
      " 4   shopping_cart                  500 non-null    object \n",
      " 5   order_price                    500 non-null    float64\n",
      " 6   delivery_charges               500 non-null    float64\n",
      " 7   customer_lat                   500 non-null    float64\n",
      " 8   customer_long                  500 non-null    float64\n",
      " 9   coupon_discount                500 non-null    int64  \n",
      " 10  order_total                    500 non-null    float64\n",
      " 11  season                         500 non-null    object \n",
      " 12  is_expedited_delivery          500 non-null    bool   \n",
      " 13  distance_to_nearest_warehouse  500 non-null    float64\n",
      " 14  latest_customer_review         500 non-null    object \n",
      " 15  is_happy_customer              500 non-null    float64\n",
      "dtypes: bool(1), float64(7), int64(1), object(7)\n",
      "memory usage: 59.2+ KB\n"
     ]
    }
   ],
   "source": [
    "# Check for missing rows\n",
    "missing_data.info()"
   ]
  },
  {
   "cell_type": "markdown",
   "metadata": {},
   "source": [
    "#### Extract clean missing data csv to completeion solution csv"
   ]
  },
  {
   "cell_type": "code",
   "execution_count": 159,
   "metadata": {},
   "outputs": [],
   "source": [
    "# Write missing data solution to csv\n",
    "missing_data.to_csv('35087056_missing_data_solution.csv')"
   ]
  },
  {
   "cell_type": "markdown",
   "metadata": {},
   "source": [
    "## Dirty Data"
   ]
  },
  {
   "cell_type": "markdown",
   "metadata": {},
   "source": [
    "#### Importing the dirty data CSV "
   ]
  },
  {
   "cell_type": "code",
   "execution_count": 160,
   "metadata": {},
   "outputs": [],
   "source": [
    "dirty_data = pd.read_csv('35087056_dirty_data.csv')"
   ]
  },
  {
   "cell_type": "markdown",
   "metadata": {},
   "source": [
    "#### Use .info() method to check meta data to ensure data was imported correctly"
   ]
  },
  {
   "cell_type": "code",
   "execution_count": 161,
   "metadata": {},
   "outputs": [
    {
     "name": "stdout",
     "output_type": "stream",
     "text": [
      "<class 'pandas.core.frame.DataFrame'>\n",
      "RangeIndex: 500 entries, 0 to 499\n",
      "Data columns (total 16 columns):\n",
      " #   Column                         Non-Null Count  Dtype  \n",
      "---  ------                         --------------  -----  \n",
      " 0   order_id                       500 non-null    object \n",
      " 1   customer_id                    500 non-null    object \n",
      " 2   date                           500 non-null    object \n",
      " 3   nearest_warehouse              500 non-null    object \n",
      " 4   shopping_cart                  500 non-null    object \n",
      " 5   order_price                    500 non-null    int64  \n",
      " 6   delivery_charges               500 non-null    float64\n",
      " 7   customer_lat                   500 non-null    float64\n",
      " 8   customer_long                  500 non-null    float64\n",
      " 9   coupon_discount                500 non-null    int64  \n",
      " 10  order_total                    500 non-null    float64\n",
      " 11  season                         500 non-null    object \n",
      " 12  is_expedited_delivery          500 non-null    bool   \n",
      " 13  distance_to_nearest_warehouse  500 non-null    float64\n",
      " 14  latest_customer_review         499 non-null    object \n",
      " 15  is_happy_customer              500 non-null    bool   \n",
      "dtypes: bool(2), float64(5), int64(2), object(7)\n",
      "memory usage: 55.8+ KB\n"
     ]
    }
   ],
   "source": [
    "dirty_data.info()"
   ]
  },
  {
   "cell_type": "markdown",
   "metadata": {},
   "source": [
    "### Dirty Data - Exploratory Data Analysis (EDA)"
   ]
  },
  {
   "cell_type": "markdown",
   "metadata": {},
   "source": [
    "#### Construct a data frame by passing in summed counts of the five columns containing dirty and unstandardides data. Create a dictionary of filed to variable mappings an display the dataframe."
   ]
  },
  {
   "cell_type": "code",
   "execution_count": 162,
   "metadata": {},
   "outputs": [
    {
     "data": {
      "text/html": [
       "<div>\n",
       "<style scoped>\n",
       "    .dataframe tbody tr th:only-of-type {\n",
       "        vertical-align: middle;\n",
       "    }\n",
       "\n",
       "    .dataframe tbody tr th {\n",
       "        vertical-align: top;\n",
       "    }\n",
       "\n",
       "    .dataframe thead th {\n",
       "        text-align: right;\n",
       "    }\n",
       "</style>\n",
       "<table border=\"1\" class=\"dataframe\">\n",
       "  <thead>\n",
       "    <tr style=\"text-align: right;\">\n",
       "      <th></th>\n",
       "      <th>Column</th>\n",
       "      <th>Error Row Count</th>\n",
       "    </tr>\n",
       "  </thead>\n",
       "  <tbody>\n",
       "    <tr>\n",
       "      <th>0</th>\n",
       "      <td>Incorrect_Date</td>\n",
       "      <td>14</td>\n",
       "    </tr>\n",
       "    <tr>\n",
       "      <th>1</th>\n",
       "      <td>Incorrect_Warehouse_Names</td>\n",
       "      <td>22</td>\n",
       "    </tr>\n",
       "    <tr>\n",
       "      <th>2</th>\n",
       "      <td>Adjust_Lat_Decimals</td>\n",
       "      <td>60</td>\n",
       "    </tr>\n",
       "    <tr>\n",
       "      <th>3</th>\n",
       "      <td>Adjust_Lon_Decimals</td>\n",
       "      <td>52</td>\n",
       "    </tr>\n",
       "    <tr>\n",
       "      <th>4</th>\n",
       "      <td>Non_ASCII_Rows_Review</td>\n",
       "      <td>28</td>\n",
       "    </tr>\n",
       "  </tbody>\n",
       "</table>\n",
       "</div>"
      ],
      "text/plain": [
       "                      Column  Error Row Count\n",
       "0             Incorrect_Date               14\n",
       "1  Incorrect_Warehouse_Names               22\n",
       "2        Adjust_Lat_Decimals               60\n",
       "3        Adjust_Lon_Decimals               52\n",
       "4      Non_ASCII_Rows_Review               28"
      ]
     },
     "execution_count": 162,
     "metadata": {},
     "output_type": "execute_result"
    }
   ],
   "source": [
    "# Dirty Data - EDA\n",
    "\n",
    "dirty_data['customer_lat'] = dirty_data['customer_lat'].astype(str)\n",
    "dirty_data['customer_long'] = dirty_data['customer_long'].astype(str)\n",
    "\n",
    "dirty_date_count = dirty_data['date'].str.contains('-').sum()\n",
    "warehouse_names = dirty_data['nearest_warehouse'].str.islower().sum()\n",
    "lat_decimals = dirty_data['customer_lat'].apply(lambda x: 1 if isinstance(x, str) and \".\" in x and len(x.split(\".\")[1]) != 7 else 0).sum()\n",
    "lon_decimals = dirty_data['customer_long'].apply(lambda x: 1 if isinstance(x, str) and \".\" in x and len(x.split(\".\")[1]) != 7 else 0).sum()\n",
    "affected_review_count = sum(dirty_data['latest_customer_review'].apply(lambda x: ''.join([char for char in str(x) \n",
    "                                                                                          if (32 <= ord(char) <= 126 or char == '!')])) != dirty_data['latest_customer_review'])\n",
    "\n",
    "dirty_data_eda = {'Incorrect_Date':dirty_date_count,\n",
    "                 'Incorrect_Warehouse_Names':warehouse_names,\n",
    "                 'Adjust_Lat_Decimals':lat_decimals,\n",
    "                 'Adjust_Lon_Decimals':lon_decimals,\n",
    "                 'Non_ASCII_Rows_Review':affected_review_count}\n",
    "\n",
    "# Reset Index, Rename columns and display table\n",
    "dirty_data_eda = pd.DataFrame.from_dict(dirty_data_eda,orient='index')\n",
    "dirty_data_eda = dirty_data_eda.reset_index()\n",
    "dirty_data_eda = dirty_data_eda.rename(columns={'index':'Column',0:'Error Row Count'})\n",
    "dirty_data_eda"
   ]
  },
  {
   "cell_type": "markdown",
   "metadata": {},
   "source": [
    "#### Construct a Bar Graph visualisation of the above data frame, a seperate graph for each column containing dirty data with individual dirty row row counts for each bar/column. The approach taken here was to create five different different varaibles for each column containing the row counts."
   ]
  },
  {
   "cell_type": "code",
   "execution_count": 163,
   "metadata": {},
   "outputs": [
    {
     "data": {
      "image/png": "[encoded data removed]",
      "text/plain": [
       "<Figure size 1400x1000 with 1 Axes>"
      ]
     },
     "metadata": {},
     "output_type": "display_data"
    }
   ],
   "source": [
    "# Dirty Data - Visual EDA\n",
    "\n",
    "dirty_data_counts = [dirty_date_count,warehouse_names,lat_decimals,lon_decimals,affected_review_count]\n",
    "variables = ['Incorrect Date Format', 'Lower case warehouse name', 'Incorrect lat decimals', 'Incorrect lon decimals', 'Non ASCII Characters']\n",
    "\n",
    "fig, ax = plt.subplots(figsize=(14, 10))\n",
    "bars = plt.bar(variables, dirty_data_counts)\n",
    "\n",
    "for bar in bars:\n",
    "    height = bar.get_height()  \n",
    "    plt.text(bar.get_x() + bar.get_width() / 2, height, str(height),\n",
    "             ha='center', va='bottom', fontsize=10)\n",
    "\n",
    "plt.xlabel('Columns')\n",
    "plt.ylabel('Dirty Data Row Count')\n",
    "plt.title('Row Counts with Errenous Data in Dirty Data CSV')\n",
    "plt.show()"
   ]
  },
  {
   "cell_type": "markdown",
   "metadata": {},
   "source": [
    "#### Adjust dates to use the / delimiter instead of the - delimiter to seperate year, month and day"
   ]
  },
  {
   "cell_type": "code",
   "execution_count": null,
   "metadata": {},
   "outputs": [],
   "source": [
    "# Date\n",
    "dirty_data['date'] = missing_data.apply(\n",
    "    lambda row: datetime.strptime(row['date'], '%Y-%m-%d') if '-' in str(row['date']) else row['date'],\n",
    "    axis=1\n",
    ")"
   ]
  },
  {
   "cell_type": "markdown",
   "metadata": {},
   "source": [
    "#### Adjust warehouse names to use title case if they are all in lower case"
   ]
  },
  {
   "cell_type": "code",
   "execution_count": 165,
   "metadata": {},
   "outputs": [],
   "source": [
    "# Nearest Warehouse Names Title case\n",
    "dirty_data['nearest_warehouse'] = missing_data.apply(\n",
    "    lambda row: row['nearest_warehouse'].title() if row['nearest_warehouse'].islower() else row['nearest_warehouse'],\n",
    "    axis=1\n",
    ")"
   ]
  },
  {
   "cell_type": "markdown",
   "metadata": {},
   "source": [
    "#### Convert the lattitude and longitude values to floats the nround the values to 7 decimal points to standardise those values"
   ]
  },
  {
   "cell_type": "code",
   "execution_count": 166,
   "metadata": {},
   "outputs": [],
   "source": [
    "# Customer_lat and Customer_long adjustment\n",
    "dirty_data['customer_lat'] = dirty_data['customer_lat'].astype(float)\n",
    "dirty_data['customer_long'] = dirty_data['customer_long'].astype(float)\n",
    "\n",
    "dirty_data['customer_lat'] = dirty_data['customer_lat'].apply(lambda x: round(x, 7))\n",
    "dirty_data['customer_long'] = dirty_data['customer_long'].apply(lambda x: round(x, 7))"
   ]
  },
  {
   "cell_type": "markdown",
   "metadata": {},
   "source": [
    "#### Standardise the distance to nearest warehouse field to 4 decimal places"
   ]
  },
  {
   "cell_type": "code",
   "execution_count": 167,
   "metadata": {},
   "outputs": [],
   "source": [
    "# Distance to Nearest Warehouse\n",
    "dirty_data['distance_to_nearest_warehouse'] = dirty_data['distance_to_nearest_warehouse'].apply(lambda x: round(x, 4))"
   ]
  },
  {
   "cell_type": "markdown",
   "metadata": {},
   "source": [
    "#### Remove all none ASCII characters from the latest customer review field except for the exclamation mark to remove characters that prevent comment readability."
   ]
  },
  {
   "cell_type": "code",
   "execution_count": 168,
   "metadata": {},
   "outputs": [],
   "source": [
    "# Customer reviews\n",
    "dirty_data['latest_customer_review'] = dirty_data['latest_customer_review'].apply(\n",
    "    lambda x: ''.join([char for char in str(x) if (32 <= ord(char) <= 126 or char == '!')])\n",
    ")"
   ]
  },
  {
   "cell_type": "markdown",
   "metadata": {},
   "source": [
    "#### Extract cleaned dirty data csv to dirty data solution csv"
   ]
  },
  {
   "cell_type": "code",
   "execution_count": 169,
   "metadata": {},
   "outputs": [],
   "source": [
    "dirty_data.to_csv('35087056_dirty_data_solution.csv')"
   ]
  },
  {
   "cell_type": "markdown",
   "metadata": {},
   "source": [
    "## Outlier Data"
   ]
  },
  {
   "cell_type": "code",
   "execution_count": 170,
   "metadata": {},
   "outputs": [],
   "source": [
    "# Read in outlier csv\n",
    "outlier_data = pd.read_csv('35087056_outlier_data.csv')"
   ]
  },
  {
   "cell_type": "markdown",
   "metadata": {},
   "source": [
    "#### Before removing outliers from the delivery charges field"
   ]
  },
  {
   "cell_type": "code",
   "execution_count": 171,
   "metadata": {},
   "outputs": [
    {
     "data": {
      "text/plain": [
       "<Axes: ylabel='Density'>"
      ]
     },
     "execution_count": 171,
     "metadata": {},
     "output_type": "execute_result"
    },
    {
     "data": {
      "image/png": "[encoded data removed]",
      "text/plain": [
       "<Figure size 640x480 with 1 Axes>"
      ]
     },
     "metadata": {},
     "output_type": "display_data"
    }
   ],
   "source": [
    "# plot distribution of delivery charges field\n",
    "outlier_data['delivery_charges'].plot(kind='kde')"
   ]
  },
  {
   "cell_type": "code",
   "execution_count": 172,
   "metadata": {},
   "outputs": [],
   "source": [
    "#Outlier Detection\n",
    "q1 = outlier_data['delivery_charges'].quantile(0.25)\n",
    "q3 = outlier_data['delivery_charges'].quantile(0.75)\n",
    "\n",
    "IQR = q3 - q1\n",
    "lower_bound = q1 - 1.5 * IQR\n",
    "upper_bound = q3 + 1.5 * IQR"
   ]
  },
  {
   "cell_type": "code",
   "execution_count": 173,
   "metadata": {},
   "outputs": [
    {
     "name": "stdout",
     "output_type": "stream",
     "text": [
      "There are 18 rows with outlier delivery charges in a dataset containing 500 rows.\n"
     ]
    }
   ],
   "source": [
    "# Count outliers\n",
    "outlier_count = len(outlier_data[(outlier_data['delivery_charges'] < lower_bound) | (outlier_data['delivery_charges'] > upper_bound)])\n",
    "\n",
    "print(f'There are {outlier_count} rows with outlier delivery charges in a dataset containing {len(outlier_data)} rows.')"
   ]
  },
  {
   "cell_type": "code",
   "execution_count": 174,
   "metadata": {},
   "outputs": [
    {
     "data": {
      "image/png": "[encoded data removed]",
      "text/plain": [
       "<Figure size 1400x1000 with 1 Axes>"
      ]
     },
     "metadata": {},
     "output_type": "display_data"
    }
   ],
   "source": [
    "total_rows = len(outlier_data)\n",
    "\n",
    "outlier_counts = [outlier_count, total_rows]\n",
    "variables = ['Outlier Rows','Total Rows']\n",
    "\n",
    "fig, ax = plt.subplots(figsize=(14, 10))\n",
    "bars = plt.bar(variables, outlier_counts)\n",
    "\n",
    "for bar in bars:\n",
    "    height = bar.get_height()  \n",
    "    plt.text(bar.get_x() + bar.get_width() / 2, height, str(height),\n",
    "             ha='center', va='bottom', fontsize=10)\n",
    "\n",
    "plt.xlabel('Outliers and Total Rows')\n",
    "plt.ylabel('Row Count')\n",
    "plt.title('Outliers Count Against Total Rows')\n",
    "plt.show()"
   ]
  },
  {
   "cell_type": "code",
   "execution_count": 175,
   "metadata": {},
   "outputs": [],
   "source": [
    "# Filter data frame on delivery charges values that are not outliers\n",
    "outlier_data = outlier_data[~((outlier_data['delivery_charges'] < q1 - 1.5 * IQR) | (outlier_data['delivery_charges'] > q3 + 1.5 * IQR))]"
   ]
  },
  {
   "cell_type": "code",
   "execution_count": 176,
   "metadata": {},
   "outputs": [],
   "source": [
    "# # Create outlier solution csv\n",
    "outlier_data.to_csv('35087056_outlier_data_solution.csv')"
   ]
  },
  {
   "cell_type": "markdown",
   "metadata": {},
   "source": [
    "## Delivery Charges Validation with Linear Regression - Missing Data Solution CSV"
   ]
  },
  {
   "cell_type": "code",
   "execution_count": 177,
   "metadata": {},
   "outputs": [],
   "source": [
    "missing_data_clean = pd.read_csv('35087056_missing_data_solution.csv')"
   ]
  },
  {
   "cell_type": "code",
   "execution_count": 178,
   "metadata": {},
   "outputs": [
    {
     "data": {
      "text/plain": [
       "<Axes: ylabel='Density'>"
      ]
     },
     "execution_count": 178,
     "metadata": {},
     "output_type": "execute_result"
    },
    {
     "data": {
      "image/png": "[encoded data removed]",
      "text/plain": [
       "<Figure size 640x480 with 1 Axes>"
      ]
     },
     "metadata": {},
     "output_type": "display_data"
    }
   ],
   "source": [
    "missing_data_clean['delivery_charges'].plot(kind='kde')"
   ]
  },
  {
   "cell_type": "code",
   "execution_count": 179,
   "metadata": {},
   "outputs": [
    {
     "name": "stdout",
     "output_type": "stream",
     "text": [
      "Linear Regression R^2 Score: 0.95\n"
     ]
    }
   ],
   "source": [
    "from sklearn.model_selection import train_test_split\n",
    "from sklearn.linear_model import LinearRegression\n",
    "from sklearn.preprocessing import OneHotEncoder, StandardScaler\n",
    "from sklearn.compose import ColumnTransformer\n",
    "from sklearn.pipeline import make_pipeline\n",
    "from sklearn.metrics import r2_score\n",
    "\n",
    "# Load the dataset\n",
    "data = missing_data_clean\n",
    "\n",
    "# Features and target\n",
    "features = [\"distance_to_nearest_warehouse\", \"is_expedited_delivery\",\n",
    "            \"is_happy_customer\", \"order_total\", \"season\"]\n",
    "\n",
    "target = \"delivery_charges\"\n",
    "\n",
    "# Outlier Detection\n",
    "q1 = outlier_data['delivery_charges'].quantile(0.25)\n",
    "q3 = outlier_data['delivery_charges'].quantile(0.75)\n",
    "\n",
    "IQR = q3 - q1\n",
    "lower_bound = q1 - 1.5 * IQR\n",
    "upper_bound = q3 + 1.5 * IQR\n",
    "\n",
    "# Filter outliers\n",
    "filtered_data = data[(data[\"delivery_charges\"] >= lower_bound) & (data[\"delivery_charges\"] <= upper_bound)]\n",
    "\n",
    "# Separate features and target\n",
    "X_filtered = filtered_data[features]\n",
    "y_filtered = filtered_data[target]\n",
    "\n",
    "# Preprocessing: One-hot encode 'season', scale numerical features, and vectorize 'latest_customer_review'\n",
    "preprocessor = ColumnTransformer(\n",
    "    transformers=[\n",
    "        (\"season\", OneHotEncoder(), [\"season\"]),\n",
    "        (\"scaler\", StandardScaler(), [\"distance_to_nearest_warehouse\", \"is_expedited_delivery\", \n",
    "                                       \"is_happy_customer\", \"order_total\"])\n",
    "    ]\n",
    ")\n",
    "\n",
    "# Build the pipeline\n",
    "pipeline = make_pipeline(\n",
    "    preprocessor,\n",
    "    LinearRegression()\n",
    ")\n",
    "\n",
    "# Split data into training and testing sets\n",
    "X_train, X_test, y_train, y_test = train_test_split(X_filtered, y_filtered, test_size=0.4, random_state=42)\n",
    "\n",
    "# Train the model\n",
    "pipeline.fit(X_train, y_train)\n",
    "\n",
    "# Evaluate the model\n",
    "y_pred = pipeline.predict(X_test)\n",
    "r2 = r2_score(y_test, y_pred)\n",
    "\n",
    "# Print results\n",
    "print(f\"Linear Regression R^2 Score: {round(r2,2)}\")"
   ]
  },
  {
   "cell_type": "markdown",
   "metadata": {},
   "source": [
    "## References"
   ]
  },
  {
   "cell_type": "markdown",
   "metadata": {},
   "source": []
  }
 ],
 "metadata": {
  "kernelspec": {
   "display_name": "base",
   "language": "python",
   "name": "python3"
  },
  "language_info": {
   "codemirror_mode": {
    "name": "ipython",
    "version": 3
   },
   "file_extension": ".py",
   "mimetype": "text/x-python",
   "name": "python",
   "nbconvert_exporter": "python",
   "pygments_lexer": "ipython3",
   "version": "3.11.7"
  }
 },
 "nbformat": 4,
 "nbformat_minor": 2
}
